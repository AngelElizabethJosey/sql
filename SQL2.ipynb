{
  "nbformat": 4,
  "nbformat_minor": 0,
  "metadata": {
    "colab": {
      "provenance": [],
      "authorship_tag": "ABX9TyM2jyQATXX+BgKyrnJ1ICuN",
      "include_colab_link": true
    },
    "kernelspec": {
      "name": "python3",
      "display_name": "Python 3"
    },
    "language_info": {
      "name": "python"
    }
  },
  "cells": [
    {
      "cell_type": "markdown",
      "metadata": {
        "id": "view-in-github",
        "colab_type": "text"
      },
      "source": [
        "<a href=\"https://colab.research.google.com/github/AngelElizabethJosey/sql/blob/main/SQL2.ipynb\" target=\"_parent\"><img src=\"https://colab.research.google.com/assets/colab-badge.svg\" alt=\"Open In Colab\"/></a>"
      ]
    },
    {
      "cell_type": "code",
      "execution_count": null,
      "metadata": {
        "colab": {
          "base_uri": "https://localhost:8080/"
        },
        "id": "Po5WzQGFJ4jT",
        "outputId": "0f93459c-6ca9-47c7-9e62-bd2b028d9ae4"
      },
      "outputs": [
        {
          "output_type": "stream",
          "name": "stdout",
          "text": [
            "[('10', '692-92-5582', 'B', 'Mandalay', 'Member', 'Female', 'Food and beverages', '3', '144', '7445', '13:27', 'Credit card', '164.52', '4.761904762', '8.226', '5.9', '0')]\n"
          ]
        }
      ],
      "source": [
        "import sqlite3\n",
        " \n",
        "conn = sqlite3.connect('SalesDBNew.db')\n",
        "\n",
        " \n",
        "cursor = conn.cursor()\n",
        "\n",
        "cursor.execute(\"SELECT * FROM Supermarket_sales ORDER BY Unitprice LIMIT 1;\")\n",
        "\n",
        "print(cursor.fetchall())\n",
        "\n",
        "conn.commit()\n",
        "\n",
        "conn.close()"
      ]
    },
    {
      "cell_type": "code",
      "source": [],
      "metadata": {
        "id": "oW60JN1vKMWP"
      },
      "execution_count": null,
      "outputs": []
    }
  ]
}